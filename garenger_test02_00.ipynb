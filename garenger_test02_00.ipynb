{
 "cells": [
  {
   "cell_type": "code",
   "execution_count": 53,
   "metadata": {},
   "outputs": [],
   "source": [
    "# This code is to take multiple on-chain data and test the unidirectional Garenger causality. For further information please refer to https://phdinds-aim.github.io/time_series_handbook/Preface/Preface.html\n",
    "import json\n",
    "import requests\n",
    "import pandas as pd\n",
    "from datetime import datetime\n",
    "from datetime import timedelta\n",
    "import pandas as pd\n",
    "import numpy as np\n",
    "import matplotlib.pyplot as plt\n",
    "from statsmodels.tsa.stattools import grangercausalitytests"
   ]
  },
  {
   "cell_type": "code",
   "execution_count": 139,
   "metadata": {},
   "outputs": [
    {
     "name": "stdout",
     "output_type": "stream",
     "text": [
      "(365,)\n",
      "(365,)\n"
     ]
    },
    {
     "name": "stderr",
     "output_type": "stream",
     "text": [
      "/var/folders/ws/rcgjwb7j4cvgmzk019k3mxg80000gn/T/ipykernel_7968/2439696241.py:17: FutureWarning: Passing literal json to 'read_json' is deprecated and will be removed in a future version. To read from a literal string, wrap it in a 'StringIO' object.\n",
      "  dx = pd.read_json(res_0.text, convert_dates=['t'])\n",
      "/var/folders/ws/rcgjwb7j4cvgmzk019k3mxg80000gn/T/ipykernel_7968/2439696241.py:18: FutureWarning: Passing literal json to 'read_json' is deprecated and will be removed in a future version. To read from a literal string, wrap it in a 'StringIO' object.\n",
      "  dy= pd.read_json(res_1.text, convert_dates=['t'])\n"
     ]
    }
   ],
   "source": [
    "# insert your API key, Start Date & End Date\n",
    "current_date = datetime.now()\n",
    "delta_date = 365\n",
    "start_date = int(datetime.timestamp(current_date-timedelta(days = delta_date)))\n",
    "end_date = int(datetime.timestamp(current_date))\n",
    "API_KEY = '2B1pxzrRCwECISMvVhDJ5c3jtPi'\n",
    "\n",
    "#print(start_date,end_date)\n",
    "\n",
    "# make API request for X = STH-SOPR & Y = Price\n",
    "res_0 = requests.get('https://api.glassnode.com/v1/metrics/indicators/sopr_less_155',\n",
    "    params={'a': 'BTC', 's': start_date, 'u': end_date, 'api_key': API_KEY})\n",
    "res_1 = requests.get('https://api.glassnode.com/v1/metrics/market/price_usd_close',\n",
    "    params={'a': 'BTC', 's': start_date, 'u': end_date, 'api_key': API_KEY})\n",
    "\n",
    "# convert to pandas dataframe\n",
    "dx = pd.read_json(res_0.text, convert_dates=['t'])\n",
    "dy = pd.read_json(res_1.text, convert_dates=['t'])\n",
    "\n",
    "# print the first 5 rows of X & Y\n",
    "#print(dx.head(3), dy.head(3))\n",
    "\n",
    "x = dx.iloc[1:].index\n",
    "y1 = dx['v']\n",
    "y2 = dy['v']\n",
    "print(y1.shape)\n",
    "print(y2.shape)\n",
    "\n"
   ]
  }
 ],
 "metadata": {
  "kernelspec": {
   "display_name": "Python 3",
   "language": "python",
   "name": "python3"
  },
  "language_info": {
   "codemirror_mode": {
    "name": "ipython",
    "version": 3
   },
   "file_extension": ".py",
   "mimetype": "text/x-python",
   "name": "python",
   "nbconvert_exporter": "python",
   "pygments_lexer": "ipython3",
   "version": "3.11.4"
  }
 },
 "nbformat": 4,
 "nbformat_minor": 2
}
