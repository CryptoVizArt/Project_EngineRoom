{
 "cells": [
  {
   "cell_type": "code",
   "execution_count": 4,
   "metadata": {},
   "outputs": [],
   "source": [
    "# This code is to take multiple on-chain data and test the unidirectional Garenger causality. For further information please refer to https://phdinds-aim.github.io/time_series_handbook/Preface/Preface.html\n",
    "import json\n",
    "import requests\n",
    "import pandas as pd\n",
    "import numpy as np\n",
    "from datetime import datetime\n",
    "from datetime import timedelta\n",
    "import matplotlib.pyplot as plt\n",
    "from pandas.plotting import lag_plot\n",
    "from statsmodels.tsa.vector_ar.var_model import VAR\n",
    "from statsmodels.tsa.stattools import adfuller, kpss, grangercausalitytests\n",
    "import warnings\n",
    "warnings.filterwarnings(\"ignore\")"
   ]
  },
  {
   "cell_type": "code",
   "execution_count": 5,
   "metadata": {},
   "outputs": [
    {
     "name": "stdout",
     "output_type": "stream",
     "text": [
      "              v         v\n",
      "0  16915.710105  0.998157\n",
      "1  17137.597161  1.000897\n",
      "2  16974.709590  0.998625\n",
      "3  17085.275988  0.999037\n",
      "4  16850.772516  0.991092\n"
     ]
    }
   ],
   "source": [
    "# insert your API key, Start Date & End Date\n",
    "current_date = datetime.now()\n",
    "delta_date = 365\n",
    "start_date = int(datetime.timestamp(current_date-timedelta(days = delta_date)))\n",
    "end_date = int(datetime.timestamp(current_date))\n",
    "API_KEY = '2B1pxzrRCwECISMvVhDJ5c3jtPi'\n",
    "\n",
    "#print(start_date,end_date)\n",
    "\n",
    "# make API request for X = STH-SOPR & Y = Price\n",
    "res_x = requests.get('https://api.glassnode.com/v1/metrics/indicators/sopr_less_155',\n",
    "    params={'a': 'BTC', 's': start_date, 'u': end_date, 'api_key': API_KEY})\n",
    "res_y = requests.get('https://api.glassnode.com/v1/metrics/market/price_usd_close',\n",
    "    params={'a': 'BTC', 's': start_date, 'u': end_date, 'api_key': API_KEY})\n",
    "\n",
    "# convert to pandas dataframe\n",
    "df_x = pd.read_json(res_x.text, convert_dates=['t'])\n",
    "df_y = pd.read_json(res_y.text, convert_dates=['t'])\n",
    "\n",
    "# build and print the first 5 rows of df\n",
    "df = pd.concat([df_y['v'], df_x['v']], axis=1)\n",
    "print(df.head(5))\n",
    "\n"
   ]
  }
 ],
 "metadata": {
  "kernelspec": {
   "display_name": "Python 3",
   "language": "python",
   "name": "python3"
  },
  "language_info": {
   "codemirror_mode": {
    "name": "ipython",
    "version": 3
   },
   "file_extension": ".py",
   "mimetype": "text/x-python",
   "name": "python",
   "nbconvert_exporter": "python",
   "pygments_lexer": "ipython3",
   "version": "3.9.5"
  }
 },
 "nbformat": 4,
 "nbformat_minor": 2
}
